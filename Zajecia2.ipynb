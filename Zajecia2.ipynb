{
  "nbformat": 4,
  "nbformat_minor": 0,
  "metadata": {
    "colab": {
      "name": "Zajecia2.ipynb",
      "provenance": [],
      "collapsed_sections": []
    },
    "kernelspec": {
      "name": "python3",
      "display_name": "Python 3"
    }
  },
  "cells": [
    {
      "cell_type": "markdown",
      "metadata": {
        "id": "es5xU6pLJb2n"
      },
      "source": [
        "##### challenge 1\n",
        "\n",
        "Stworz typ NumerTelefonu\n",
        "\n",
        " -- przy tworzeniu sprawdza czy właściwy numer (Polski) jeśli nie pisze, że error (ew. Exception)\n",
        " \n",
        " -- gdy printuję to mi pisze polskimi słowami i.e. \"jeden, pięć, siedem, zero\"\n",
        " \n",
        " -- gdy wywołuję właściwość wojewodzwtwo, podaje mi wojewodztwo ew. ze to komorkowy\n",
        " \n",
        " "
      ]
    },
    {
      "cell_type": "code",
      "metadata": {
        "cellView": "code",
        "id": "zoaPlk8PJqRi"
      },
      "source": [
        "\n",
        "# ma na takie rzeczy być w stanie odpowiedzieć\n",
        "\n",
        "numer_lodz = NumerTelefonu(\"426877868\")\n",
        ">>> \"prawidlowy numer\"\n",
        "\n",
        "numer_lodz.wojewodztwo \n",
        ">>> \"Lodz\"\n",
        "\n",
        "print(numer_lodz)\n",
        ">>> \"cztery dwa sześć osiem siedem siedem osiem sześć osiem\""
      ],
      "execution_count": null,
      "outputs": []
    },
    {
      "cell_type": "code",
      "metadata": {
        "colab": {
          "base_uri": "https://localhost:8080/"
        },
        "id": "bWN6mxilJ-bV",
        "outputId": "a8865609-1fe4-4c39-be2a-1135fb60494e"
      },
      "source": [
        "class NumerTelefonu():\r\n",
        "\r\n",
        "# Zbiór numerów i wojewodztw\r\n",
        "  Zbior ={75:\"Dolnośląskie\",76:\"Dolnośląskie\",74:\"Dolnośląskie\",\r\n",
        "              71:\"Dolnośląskie\",52:\"Kujawsko-pomorskie\",56:\"Kujawsko-pomorskie\",\r\n",
        "              54:\"Kujawsko-pomorskie\",83:\"Lubelskie\",82:\"Lubelskie\",81:\"Lubelskie\",\r\n",
        "              84:\"Lubelskie\",95:\"Lubuskie\",68:\"Lubuskie\",42:\"Łódzkie\",44:\"Łódzkie\",\r\n",
        "              43:\"Łódzkie\",46:\"Łódzkie\",12:\"Małopolskie\",18:\"Małopolskie\",14:\"Małopolskie\",\r\n",
        "              23:\"Mazowieckie\",29:\"Mazowieckie\",24:\"Mazowieckie\",48:\"Mazowieckie\",\r\n",
        "              25:\"Mazowieckie\",22:\"Mazowieckie\",77:\"Opolskie\",13:\"Podkarpackie\",\r\n",
        "              16:\"Podkarpackie\",17:\"Podkarpackie\",15:\"Podkarpackie\",85:\"Podlaskie\",\r\n",
        "              86:\"Podlaskie\",87:\"Podlaskie\",58:\"Pomorskie\",59:\"Pomorskie\",33:\"Śląskie\",\r\n",
        "              34:\"Śląskie\",32:\"Śląskie\",41:\"Świętokrzyskie\",55:\"Warmińsko-mazurskie\",\r\n",
        "              89:\"Warmińsko-mazurskie\",62:\"Wielkopolskie\",63:\"Wielkopolskie\",65:\"Wielkopolskie\",\r\n",
        "              67:\"Wielkopolskie\",61:\"Wielkopolskie\",94:\"Zachodnio-pomorskie\",91:\"Zachodnio-pomorskie\"}\r\n",
        "  \r\n",
        "  oznakowanie = {'0':\"Zero\", '1':'Jeden', '2':'Dwa', '3':'Trzy', '4':'Cztery', '5':'Pięć', '6':'Sześć', '7':'Siedem', '8':'Osiem', '9':'Dziewiec'}\r\n",
        "  \r\n",
        "  def __repr__(self):\r\n",
        "      return ' '.join(map(lambda zmienna : self.oznakowanie[zmienna], str(self.numer)))\r\n",
        "# sprawdza czy dobry numer \r\n",
        "  def __init__(self, numer_wprowadzony):\r\n",
        "    if len(numer_wprowadzony) == 9 :\r\n",
        "      self.numer = numer_wprowadzony\r\n",
        "      print(\"prawidlowy numer\")\r\n",
        "    else:\r\n",
        "        print(\"numer nieprawidlowy\")\r\n",
        "# Szukanie z jakiego wojewodztwa\r\n",
        "  def wojewodztwo(self):\r\n",
        "      tablica = []\r\n",
        "      for x in self.numer[:2]:\r\n",
        "        tablica.append(str(x)) \r\n",
        "      znaki = tablica[0] + tablica[1]\r\n",
        "      if (self.Zbior[int(znaki)]):\r\n",
        "        print(self.Zbior[int(znaki)])\r\n",
        "      else:\r\n",
        "        print(\"komorkowy\")  \r\n",
        "        print(znaki)\r\n",
        "\r\n",
        "   \r\n",
        "\r\n",
        "        \r\n",
        "adam = NumerTelefonu('733456789')\r\n",
        "maciek = NumerTelefonu('915678945')\r\n",
        "kinga = NumerTelefonu('4256')\r\n",
        "maciek.wojewodztwo()\r\n",
        "poznakowanie = {0:\"Zero\", 1:\"Jeden\", 2:\"Dwa\", 3:\"Trzy\", 4:\"Cztery\", 5:\"Pięć\", 6:\"Sześć\", 7:\"Siedem\", 8:\"Osiem\", 9:\"Dziewiec\",}\r\n",
        "print(maciek)"
      ],
      "execution_count": 35,
      "outputs": [
        {
          "output_type": "stream",
          "text": [
            "prawidlowy numer\n",
            "prawidlowy numer\n",
            "numer nieprawidlowy\n",
            "Zachodnio-pomorskie\n",
            "Dziewiec Jeden Pięć Sześć Siedem Osiem Dziewiec Cztery Pięć\n"
          ],
          "name": "stdout"
        }
      ]
    }
  ]
}