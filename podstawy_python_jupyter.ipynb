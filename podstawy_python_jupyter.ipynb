{
  "nbformat": 4,
  "nbformat_minor": 0,
  "metadata": {
    "kernelspec": {
      "display_name": "Python 3",
      "language": "python",
      "name": "python3"
    },
    "language_info": {
      "codemirror_mode": {
        "name": "ipython",
        "version": 3
      },
      "file_extension": ".py",
      "mimetype": "text/x-python",
      "name": "python",
      "nbconvert_exporter": "python",
      "pygments_lexer": "ipython3",
      "version": "3.7.3"
    },
    "colab": {
      "name": "podstawy_python_jupyter.ipynb",
      "provenance": [],
      "collapsed_sections": []
    }
  },
  "cells": [
    {
      "cell_type": "code",
      "metadata": {
        "id": "-O9PyPpS04_x",
        "colab": {
          "base_uri": "https://localhost:8080/",
          "height": 35
        },
        "outputId": "ce6e44c4-4f55-4d11-cbf4-cbda17d7fb74"
      },
      "source": [
        "studenci = [\"Ania\", \"Zosia\", \"Kasia\", \"Franek\"]\n",
        "\n",
        "print(studenci)"
      ],
      "execution_count": null,
      "outputs": [
        {
          "output_type": "stream",
          "text": [
            "['Ania', 'Zosia', 'Kasia', 'Franek']\n"
          ],
          "name": "stdout"
        }
      ]
    },
    {
      "cell_type": "code",
      "metadata": {
        "id": "Gj-tepo605Io",
        "colab": {
          "base_uri": "https://localhost:8080/"
        },
        "outputId": "905aa8e1-7bf0-4952-d26a-58ba555374e7"
      },
      "source": [
        "#### challenge 0.1\n",
        "\n",
        "zajecia = [\"wf\",\"informatyka\",\"relax\",\"mispy\",\"piateczek\"]\n",
        "\n",
        "dnityg= [\"Pon\",\"Wto\",\"Sro\",\"Czwar\",\"Pio\"]\n",
        "zajecia[2:]\n",
        "# Wyprintowanie zajeć od srody do piatku\n",
        "print(\" Zajecia po kolei od środy do piątku:\")\n",
        "for numer , przedmioty  in enumerate(zajecia):\n",
        "  if (numer==2):\n",
        "    print(\" Środa: {} \".format(przedmioty))\n",
        "  elif (numer==3):\n",
        "    print(\" Czwartek: {} \".format(przedmioty))\n",
        "  elif (numer==4):\n",
        "    print(\" Piątek: {} \".format(przedmioty))\n",
        "\n",
        "# Wyprintowanie oprocz srody\n",
        "print(\" \\nWszystkie zajęcia, oprócz odbywających się w środę:\")\n",
        "for numeric , przedmiociki  in enumerate(zajecia):\n",
        "  if (numeric!=2):\n",
        "    print(\"{}\".format(przedmiociki))\n",
        "\n"
      ],
      "execution_count": 2,
      "outputs": [
        {
          "output_type": "stream",
          "text": [
            " Zajecia po koleii od środy do piątku:\n",
            " Środa: relax \n",
            " Czwartek: mispy \n",
            " Piątek: piateczek \n",
            " \n",
            "Wszystkie zajęcia, oprócz odbywających się w środę:\n",
            "wf\n",
            "informatyka\n",
            "mispy\n",
            "piateczek\n"
          ],
          "name": "stdout"
        }
      ]
    },
    {
      "cell_type": "code",
      "metadata": {
        "id": "Uwb-fhQO05I6",
        "colab": {
          "base_uri": "https://localhost:8080/"
        },
        "outputId": "71153d80-ffda-47b2-c7c8-03e2452e78a5"
      },
      "source": [
        "#### challenge 0.2\n",
        "\n",
        "zajecia = [[\"wf\"],\n",
        "           [\"informatyka\", \"nauka czytania\"],\n",
        "           [\"relax\", \"jedzenie\"],\n",
        "           [\"mispy\",\"mispy w domu\"],\n",
        "           [\"piateczek\", \"praca domowa z mispow\", \"Ilovemispy\", \"mispy w czasie snu\"]\n",
        "          ]\n",
        "\n",
        "dnityg= [\"Pon\",\"Wto\",\"Sro\",\"Czwar\",\"Pio\"]\n",
        "lista=[]\n",
        "# Zdefiniowanie funkcji ktora poda ile jest zajec danego dnia\n",
        "def ile_zaj_danego_dnia():\n",
        "    for numeric , przedmiociki  in enumerate(zajecia):\n",
        "      liczba=len(przedmiociki)\n",
        "      print(\"{} : {} = {}\".format(dnityg[numeric],przedmiociki, liczba))\n",
        "      lista.append(liczba)\n",
        "      lista.append(dnityg[numeric])\n",
        "\n",
        "# lista_zajec_z_dnia -> ile ich jest\n",
        "\n",
        "print(\" \\nLista zajec z dnia i ile ich jest:\")\n",
        "ile_zaj_danego_dnia()\n",
        "print(\"--\"*20)\n",
        "# Sortowanie dni po najbardziej zajetych\n",
        "print(\"Posortowane dni od najbardziej zajętego:\")\n",
        "k=0\n",
        "sorted(lista[::2])\n",
        "for e in reversed(lista):\n",
        "    k+=1\n",
        "    if (k%2!=0):\n",
        "      print(\"{}\".format(e))\n",
        "\n",
        "print(\"--\"*20)\n",
        "\n",
        "\n",
        "#### challenge 0.3\n",
        "\n",
        "# Program ktory znajdzie dzien z najwieksza iloscia mispow\n",
        "print(\"Znajdowanie dnia z najwieksza iloscia mispow:\")\n",
        "Poniedzialek=zajecia[0]\n",
        "Wtorek=zajecia[1]\n",
        "Sroda=zajecia[2]\n",
        "Czwartek=zajecia[3]\n",
        "Piatek=zajecia[4]\n",
        "n=0\n",
        "Pon=0\n",
        "Wto=0\n",
        "Sro=0\n",
        "Czw=0\n",
        "Pia=0\n",
        "a=0\n",
        "b=0\n",
        "c=0\n",
        "d=0\n",
        "# Pętle które wyszukują mi ile razy w danych dniach jest zajecie z misp \n",
        "for mm in enumerate(Poniedzialek):\n",
        "  if (\"misp\" in Poniedzialek[b]):\n",
        "      Pon+=1\n",
        "  b+=1\n",
        "\n",
        "for mmm in enumerate(Wtorek):\n",
        "  if (\"misp\" in Wtorek[c]):\n",
        "      Wto+=1\n",
        "  c+=1\n",
        "\n",
        "for mmmm in enumerate(Sroda):\n",
        "  if (\"misp\" in Sroda[d]):\n",
        "      Sro+=1\n",
        "  d+=1\n",
        "\n",
        "for m in enumerate(Czwartek):\n",
        "  if (\"misp\" in Czwartek[a]):\n",
        "      Czw+=1\n",
        "  a+=1\n",
        "\n",
        "for s in enumerate(Piatek):\n",
        "  if (\"misp\" in Piatek[n]):\n",
        "       Pia+=1\n",
        "  n+=1\n",
        "\n",
        "# Zrobienie tablicy z wynikami\n",
        "mispy=[]\n",
        "mispy.append(Pon)\n",
        "mispy.append(dnityg[0])\n",
        "mispy.append(Wto)\n",
        "mispy.append(dnityg[1])\n",
        "mispy.append(Sro)\n",
        "mispy.append(dnityg[2])\n",
        "mispy.append(Czw)\n",
        "mispy.append(dnityg[3])\n",
        "mispy.append(Pia)\n",
        "mispy.append(dnityg[4])\n",
        "kik=0\n",
        "# Wyswietlenie posortowanych wynikow\n",
        "sorted(mispy[::2])\n",
        "for e in reversed(mispy):\n",
        "    kik+=1\n",
        "    if (k%2==0):\n",
        "      print(\"{}\".format(e))"
      ],
      "execution_count": 4,
      "outputs": [
        {
          "output_type": "stream",
          "text": [
            " \n",
            "Lista zajec z dnia i ile ich jest:\n",
            "Pon : ['wf'] = 1\n",
            "Wto : ['informatyka', 'nauka czytania'] = 2\n",
            "Sro : ['relax', 'jedzenie'] = 2\n",
            "Czwar : ['mispy', 'mispy w domu'] = 2\n",
            "Pio : ['piateczek', 'praca domowa z mispow', 'Ilovemispy', 'mispy w czasie snu'] = 4\n",
            "----------------------------------------\n",
            "Posortowane dni od najbardziej zajętego:\n",
            "Pio\n",
            "Czwar\n",
            "Sro\n",
            "Wto\n",
            "Pon\n",
            "----------------------------------------\n",
            "Znajdowanie dnia z najwieksza iloscia mispow:\n",
            "Pio\n",
            "3\n",
            "Czwar\n",
            "2\n",
            "Sro\n",
            "0\n",
            "Wto\n",
            "0\n",
            "Pon\n",
            "0\n"
          ],
          "name": "stdout"
        }
      ]
    }
  ]
}
