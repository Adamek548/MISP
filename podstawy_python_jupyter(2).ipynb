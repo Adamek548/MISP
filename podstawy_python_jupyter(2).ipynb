{
  "nbformat": 4,
  "nbformat_minor": 0,
  "metadata": {
    "kernelspec": {
      "display_name": "Python 3",
      "language": "python",
      "name": "python3"
    },
    "language_info": {
      "codemirror_mode": {
        "name": "ipython",
        "version": 3
      },
      "file_extension": ".py",
      "mimetype": "text/x-python",
      "name": "python",
      "nbconvert_exporter": "python",
      "pygments_lexer": "ipython3",
      "version": "3.7.3"
    },
    "colab": {
      "name": "podstawy_python_jupyter.ipynb",
      "provenance": [],
      "collapsed_sections": []
    }
  },
  "cells": [
    {
      "cell_type": "code",
      "metadata": {
        "id": "VdnZFemy049N",
        "outputId": "1d9942ec-e77a-4956-dd9a-1682ee186ec9"
      },
      "source": [
        "# komentarz\n",
        "\n",
        "# if\n",
        "\n",
        "wielkosc = 5\n",
        "\n",
        "print(wielkosc)"
      ],
      "execution_count": null,
      "outputs": [
        {
          "output_type": "stream",
          "text": [
            "5\n"
          ],
          "name": "stdout"
        }
      ]
    },
    {
      "cell_type": "code",
      "metadata": {
        "id": "V4sPIuBc04-u",
        "outputId": "0919df1a-da43-457b-f023-feb4628c9fc1"
      },
      "source": [
        "if wielkosc >6:\n",
        "    print(\"ale duze\")\n",
        "elif wielkosc < 3:\n",
        "    print(\"malutkie\")\n",
        "    print('franek')\n",
        "else:\n",
        "    print(\"w sam raz\")"
      ],
      "execution_count": null,
      "outputs": [
        {
          "output_type": "stream",
          "text": [
            "w sam raz\n"
          ],
          "name": "stdout"
        }
      ]
    },
    {
      "cell_type": "code",
      "metadata": {
        "id": "-O9PyPpS04_x",
        "colab": {
          "base_uri": "https://localhost:8080/",
          "height": 35
        },
        "outputId": "ce6e44c4-4f55-4d11-cbf4-cbda17d7fb74"
      },
      "source": [
        "studenci = [\"Ania\", \"Zosia\", \"Kasia\", \"Franek\"]\n",
        "\n",
        "print(studenci)"
      ],
      "execution_count": null,
      "outputs": [
        {
          "output_type": "stream",
          "text": [
            "['Ania', 'Zosia', 'Kasia', 'Franek']\n"
          ],
          "name": "stdout"
        }
      ]
    },
    {
      "cell_type": "code",
      "metadata": {
        "id": "SfQJkENG05B2",
        "colab": {
          "base_uri": "https://localhost:8080/",
          "height": 35
        },
        "outputId": "d4bf59ce-db69-49a5-d8ce-3c2f5eb906ab"
      },
      "source": [
        "studenci[2:]"
      ],
      "execution_count": null,
      "outputs": [
        {
          "output_type": "execute_result",
          "data": {
            "text/plain": [
              "['Kasia', 'Franek']"
            ]
          },
          "metadata": {
            "tags": []
          },
          "execution_count": 112
        }
      ]
    },
    {
      "cell_type": "code",
      "metadata": {
        "scrolled": true,
        "id": "OyQs17H605DL",
        "outputId": "c4269069-e453-465c-aec4-e7eb70cfbee6"
      },
      "source": [
        "for student in studenci:\n",
        "    print(\"student ma na imie:\", student)\n",
        "    \n",
        "for student in studenci:\n",
        "    print(student)\n",
        "    if student[0]==\"A\":\n",
        "        print(\"student na poczatku alfabetu\")"
      ],
      "execution_count": null,
      "outputs": [
        {
          "output_type": "stream",
          "text": [
            "student ma na imie: Ania\n",
            "student ma na imie: Zosia\n",
            "student ma na imie: Kasia\n",
            "student ma na imie: Franek\n",
            "Ania\n",
            "student na poczatku alfabetu\n",
            "Zosia\n",
            "Kasia\n",
            "Franek\n"
          ],
          "name": "stdout"
        }
      ]
    },
    {
      "cell_type": "code",
      "metadata": {
        "id": "bae8MyuR05Dr",
        "outputId": "02765403-62aa-45f5-d3c9-27f0d874af38"
      },
      "source": [
        "for numer, student in enumerate(studenci):\n",
        "    print(\"student {} ma numer {}\".format(student,numer))"
      ],
      "execution_count": null,
      "outputs": [
        {
          "output_type": "stream",
          "text": [
            "student Ania ma numer 0\n",
            "student Zosia ma numer 1\n",
            "student Kasia ma numer 2\n",
            "student Franek ma numer 3\n"
          ],
          "name": "stdout"
        }
      ]
    },
    {
      "cell_type": "code",
      "metadata": {
        "id": "eD0E_PV705EG",
        "outputId": "c4ba5239-850b-47b8-979c-ac840b813c24"
      },
      "source": [
        "oceny = [2,2,5,3]\n",
        "\n",
        "for numer, student in enumerate(studenci):\n",
        "    print(\"student {} ma numer {} i ocenę {}\".format(student,numer,oceny[numer]))\n",
        "\n",
        "print(\"--\"*20)    \n",
        "for number, (student, ocena) in enumerate(zip(studenci,oceny)):\n",
        "    print(\"student {} ma numer {} i ocenę {}\".format(student,number,ocena))"
      ],
      "execution_count": null,
      "outputs": [
        {
          "output_type": "stream",
          "text": [
            "student Ania ma numer 0 i ocenę 2\n",
            "student Zosia ma numer 1 i ocenę 2\n",
            "student Kasia ma numer 2 i ocenę 5\n",
            "student Franek ma numer 3 i ocenę 3\n",
            "----------------------------------------\n",
            "student Ania ma numer 0 i ocenę 2\n",
            "student Zosia ma numer 1 i ocenę 2\n",
            "student Kasia ma numer 2 i ocenę 5\n",
            "student Franek ma numer 3 i ocenę 3\n"
          ],
          "name": "stdout"
        }
      ]
    },
    {
      "cell_type": "code",
      "metadata": {
        "id": "MK4LUx7X05El"
      },
      "source": [
        "trzy_elementy= [1,2,3]\n",
        "pierwszy,drugi,trzeci= trzy_elementy"
      ],
      "execution_count": null,
      "outputs": []
    },
    {
      "cell_type": "code",
      "metadata": {
        "id": "FbHBnwRu05FW",
        "outputId": "37974483-bf11-4f9a-d317-9476c1b105c6"
      },
      "source": [
        "n = 1\n",
        "\n",
        "while(n < 10):\n",
        "    print(n)\n",
        "    n+=1"
      ],
      "execution_count": null,
      "outputs": [
        {
          "output_type": "stream",
          "text": [
            "1\n",
            "2\n",
            "3\n",
            "4\n",
            "5\n",
            "6\n",
            "7\n",
            "8\n",
            "9\n"
          ],
          "name": "stdout"
        }
      ]
    },
    {
      "cell_type": "code",
      "metadata": {
        "id": "IhE5bIK105Gi"
      },
      "source": [
        "def dodaj_dwa(liczba):\n",
        "    return liczba+2\n",
        "\n",
        "def dodaj_trzy(liczba):\n",
        "    return liczba+3\n",
        "\n",
        "def dodaj_dwie_liczby(liczba1,liczba2)\n",
        "    return liczba1+liczba2\n",
        "\n",
        "\n",
        "dodaj_cztery = lambda liczba:liczba+4"
      ],
      "execution_count": null,
      "outputs": []
    },
    {
      "cell_type": "code",
      "metadata": {
        "id": "l_qzlV4505HA",
        "outputId": "614da1eb-4a98-4879-8d4a-32e491e2f95a"
      },
      "source": [
        "funkcje=[dodaj_dwa,dodaj_trzy,dodaj_cztery]\n",
        "\n",
        "jakis_nr= 10\n",
        "\n",
        "for funkcja in funkcje:\n",
        "    print(funkcja(jakis_nr))"
      ],
      "execution_count": null,
      "outputs": [
        {
          "output_type": "stream",
          "text": [
            "12\n",
            "13\n",
            "14\n"
          ],
          "name": "stdout"
        }
      ]
    },
    {
      "cell_type": "code",
      "metadata": {
        "id": "9kQGu0vd05HR",
        "colab": {
          "base_uri": "https://localhost:8080/",
          "height": 35
        },
        "outputId": "cf39dfe9-33e1-4424-f433-a207e9760be0"
      },
      "source": [
        "#studenci[0]\n",
        "studenci[1:]\n",
        "#studenci[:-1]"
      ],
      "execution_count": null,
      "outputs": [
        {
          "output_type": "execute_result",
          "data": {
            "text/plain": [
              "['Zosia', 'Kasia', 'Franek']"
            ]
          },
          "metadata": {
            "tags": []
          },
          "execution_count": 111
        }
      ]
    },
    {
      "cell_type": "code",
      "metadata": {
        "id": "Gj-tepo605Io",
        "colab": {
          "base_uri": "https://localhost:8080/"
        },
        "outputId": "a342c00a-b710-4aca-87cd-7b4ee4316f00"
      },
      "source": [
        "#### challenge 0.1\n",
        "\n",
        "zajecia = [\"wf\",\"informatyka\",\"relax\",\"mispy\",\"piateczek\"]\n",
        "\n",
        "dnityg= [\"Pon\",\"Wto\",\"Sro\",\"Czwar\",\"Pio\"]\n",
        "zajecia[2:]\n",
        "# wyprintuj zajecia od srody do piatku\n",
        "print(\" Zajecia po koleii od środy do piątku:\")\n",
        "for numer , przedmioty  in enumerate(zajecia):\n",
        "  if (numer==2):\n",
        "    print(\" Środa: {} \".format(przedmioty))\n",
        "  elif (numer==3):\n",
        "    print(\" Czwartek: {} \".format(przedmioty))\n",
        "  elif (numer==4):\n",
        "    print(\" Piątek: {} \".format(przedmioty))\n",
        "\n",
        "# wyprintuj oprocz srody\n",
        "print(\" \\nWszystkie zajęcia, oprócz odbywających się w środę:\")\n",
        "for numeric , przedmiociki  in enumerate(zajecia):\n",
        "  if (numeric!=2):\n",
        "    print(\"{}\".format(przedmiociki))\n",
        "\n"
      ],
      "execution_count": 1,
      "outputs": [
        {
          "output_type": "stream",
          "text": [
            " Zajecia po koleii od środy do piątku:\n",
            " Środa: relax \n",
            " Czwartek: mispy \n",
            " Piątek: piateczek \n",
            " \n",
            "Wszystkie zajęcia, oprócz odbywających się w środę:\n",
            "wf\n",
            "informatyka\n",
            "mispy\n",
            "piateczek\n"
          ],
          "name": "stdout"
        }
      ]
    },
    {
      "cell_type": "code",
      "metadata": {
        "id": "Uwb-fhQO05I6",
        "colab": {
          "base_uri": "https://localhost:8080/",
          "height": 498
        },
        "outputId": "3cdbe377-6715-4c8b-9259-6fe7b9acecb8"
      },
      "source": [
        "#### challenge 0.2\n",
        "\n",
        "zajecia = [[\"wf\"],\n",
        "           [\"informatyka\", \"nauka czytania\"],\n",
        "           [\"relax\", \"jedzenie\"],\n",
        "           [\"mispy\",\"mispy w domu\"],\n",
        "           [\"piateczek\", \"praca domowa z mispow\", \"Ilovemispy\", \"mispy w czasie snu\"]\n",
        "          ]\n",
        "\n",
        "dnityg= [\"Pon\",\"Wto\",\"Sro\",\"Czwar\",\"Pio\"]\n",
        "lista=[]\n",
        "# zdefiniuj funkcje ktora poda ile jest zajec danego dnia\n",
        "def ile_zaj_danego_dnia():\n",
        "    for numeric , przedmiociki  in enumerate(zajecia):\n",
        "      liczba=len(przedmiociki)\n",
        "      print(\"{} : {} = {}\".format(dnityg[numeric],przedmiociki, liczba))\n",
        "      lista.append(liczba)\n",
        "      lista.append(dnityg[numeric])\n",
        "# lista_zajec_z_dnia -> ile ich jest\n",
        "\n",
        "print(\" \\nLista zajec z dnia i ile ich jest:\")\n",
        "ile_zaj_danego_dnia()\n",
        "print(\"--\"*20)\n",
        "# posortuj dni po najbardziej zajetych\n",
        "print(\"Posortowane dni od najbardziej zajętego:\")\n",
        "k=0\n",
        "sorted(lista[::2])\n",
        "for e in reversed(lista):\n",
        "    k+=1\n",
        "    if (k%2!=0):\n",
        "      print(\"{}\".format(e))\n",
        "\n",
        "print(\"--\"*20)\n",
        "\n",
        "\n",
        "#### challenge 0.3\n",
        "\n",
        "# napisz program ktory znajdzie dzien z najwieksza iloscia mispow\n",
        "print(\"Znajdowanie dnia z najwieksza iloscia mispow:\")\n",
        "Poniedzialek=zajecia[0]\n",
        "Wtorek=zajecia[1]\n",
        "Sroda=zajecia[2]\n",
        "Czwartek=zajecia[3]\n",
        "Piatek=zajecia[4]\n",
        "n=0\n",
        "Pon=0\n",
        "Wto=0\n",
        "Sro=0\n",
        "Czw=0\n",
        "Pia=0\n",
        "a=0\n",
        "b=0\n",
        "c=0\n",
        "d=0\n",
        "for mm in enumerate(Poniedzialek):\n",
        "  if (\"misp\" in Poniedzialek[b]):\n",
        "      Pon+=1\n",
        "  b+=1\n",
        "\n",
        "for mmm in enumerate(Wtorek):\n",
        "  if (\"misp\" in Wtorek[c]):\n",
        "      Wto+=1\n",
        "  c+=1\n",
        "\n",
        "for mmmm in enumerate(Sroda):\n",
        "  if (\"misp\" in Sroda[d]):\n",
        "      Sro+=1\n",
        "  d+=1\n",
        "\n",
        "for m in enumerate(Czwartek):\n",
        "  if (\"misp\" in Czwartek[a]):\n",
        "      Czw+=1\n",
        "  a+=1\n",
        "\n",
        "for s in enumerate(Piatek):\n",
        "  if (\"misp\" in Piatek[n]):\n",
        "       Pia+=1\n",
        "  n+=1\n",
        "\n",
        "mispy=[]\n",
        "mispy.append(Pon)\n",
        "mispy.append(dnityg[0])\n",
        "mispy.append(Wto)\n",
        "mispy.append(dnityg[1])\n",
        "mispy.append(Sro)\n",
        "mispy.append(dnityg[2])\n",
        "mispy.append(Czw)\n",
        "mispy.append(dnityg[3])\n",
        "mispy.append(Pia)\n",
        "mispy.append(dnityg[4])\n",
        "kik=0\n",
        "sorted(mispy[::2])\n",
        "for e in reversed(mispy):\n",
        "    kik+=1\n",
        "    if (k%2==0):\n",
        "      print(\"{}\".format(e))"
      ],
      "execution_count": null,
      "outputs": [
        {
          "output_type": "stream",
          "text": [
            " \n",
            "Lista zajec z dnia i ile ich jest:\n",
            "Pon : ['wf'] = 1\n",
            "Wto : ['informatyka', 'nauka czytania'] = 2\n",
            "Sro : ['relax', 'jedzenie'] = 2\n",
            "Czwar : ['mispy', 'mispy w domu'] = 2\n",
            "Pio : ['piateczek', 'praca domowa z mispow', 'Ilovemispy', 'mispy w czasie snu'] = 4\n",
            "----------------------------------------\n",
            "Posortowane dni od najbardziej zajętego:\n",
            "Pio\n",
            "Czwar\n",
            "Sro\n",
            "Wto\n",
            "Pon\n",
            "----------------------------------------\n",
            "Znajdowanie dnia z najwieksza iloscia mispow:\n",
            "Pio\n",
            "3\n",
            "Czwar\n",
            "2\n",
            "Sro\n",
            "0\n",
            "Wto\n",
            "0\n",
            "Pon\n",
            "0\n"
          ],
          "name": "stdout"
        }
      ]
    },
    {
      "cell_type": "code",
      "metadata": {
        "id": "k4aEVpzKew3k"
      },
      "source": [
        ""
      ],
      "execution_count": null,
      "outputs": []
    },
    {
      "cell_type": "code",
      "metadata": {
        "id": "wBeH2cchexW7"
      },
      "source": [
        ""
      ],
      "execution_count": null,
      "outputs": []
    },
    {
      "cell_type": "code",
      "metadata": {
        "id": "Jc9YPTrN05JM",
        "colab": {
          "base_uri": "https://localhost:8080/",
          "height": 35
        },
        "outputId": "678a1e0d-3164-4385-8ba0-1df9760050f5"
      },
      "source": [
        "len(zajecia)\n",
        "\n",
        "zajecia[4][1]\n",
        "\n",
        "\"Ma\" in \"MojaMaMa\"\n",
        "\n",
        "liczby=[\"22\",\"11\",\"33\",\"100\"]\n",
        "liczby_i_nazwy= [(\"22\",\"dwadziescia dwa\"),\n",
        "                 (\"11\",\"jedenascie\"),\n",
        "        (\"33\",\"trzydziesci trzy\"),(\"100\",\"sto\")]\n",
        "sorted(liczby)\n",
        "\n",
        "sorted(liczby, key=int)\n",
        "\n",
        "liczby_kolejnosc= enumerate(liczby)\n",
        "\n",
        "def czy_jest_jeden(liczba):\n",
        "\n",
        "    if \"1\" in liczba:\n",
        "        return 1\n",
        "    else:\n",
        "        return 0\n",
        "def na_liczbe(krotka):\n",
        "         return int(krotka[0])\n",
        "def na_liczbe_index(krotka):\n",
        "         return int(krotka[1])    \n",
        "sorted(liczby, key=czy_jest_jeden)\n",
        "         \n",
        "sorted(liczby_i_nazwy,key=na_liczbe)\n",
        "\n",
        "sorted(liczby_kolejnosc,key=na_liczbe_index)"
      ],
      "execution_count": null,
      "outputs": [
        {
          "output_type": "execute_result",
          "data": {
            "text/plain": [
              "[(1, '11'), (0, '22'), (2, '33'), (3, '100')]"
            ]
          },
          "metadata": {
            "tags": []
          },
          "execution_count": 121
        }
      ]
    },
    {
      "cell_type": "code",
      "metadata": {
        "id": "FGO0gH7c05Kp",
        "colab": {
          "base_uri": "https://localhost:8080/",
          "height": 35
        },
        "outputId": "72519ee7-638f-4638-9bf2-44d858fa83ef"
      },
      "source": [
        "sorted(liczby_kolejnosc)\n"
      ],
      "execution_count": null,
      "outputs": [
        {
          "output_type": "stream",
          "text": [
            "<enumerate object at 0x7fad4ce5a870>\n"
          ],
          "name": "stdout"
        }
      ]
    },
    {
      "cell_type": "code",
      "metadata": {
        "id": "atLSZa7405LK"
      },
      "source": [
        ""
      ],
      "execution_count": null,
      "outputs": []
    }
  ]
}